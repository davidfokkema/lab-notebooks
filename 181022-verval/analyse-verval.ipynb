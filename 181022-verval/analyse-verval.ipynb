{
 "cells": [
  {
   "cell_type": "markdown",
   "metadata": {},
   "source": [
    "# Analyse van een exponentieel verval"
   ]
  },
  {
   "cell_type": "code",
   "execution_count": 1,
   "metadata": {},
   "outputs": [],
   "source": [
    "import pandas as pd\n",
    "import numpy as np\n",
    "from lmfit import models"
   ]
  },
  {
   "cell_type": "markdown",
   "metadata": {},
   "source": [
    "## Importeren en bekijken van de data\n",
    "\n",
    "We importeren de dataset en kijken even of dat goed ging."
   ]
  },
  {
   "cell_type": "code",
   "execution_count": 2,
   "metadata": {},
   "outputs": [],
   "source": [
    "data = pd.read_csv('verval.txt')"
   ]
  },
  {
   "cell_type": "code",
   "execution_count": 3,
   "metadata": {},
   "outputs": [
    {
     "data": {
      "text/html": [
       "<div>\n",
       "<style scoped>\n",
       "    .dataframe tbody tr th:only-of-type {\n",
       "        vertical-align: middle;\n",
       "    }\n",
       "\n",
       "    .dataframe tbody tr th {\n",
       "        vertical-align: top;\n",
       "    }\n",
       "\n",
       "    .dataframe thead th {\n",
       "        text-align: right;\n",
       "    }\n",
       "</style>\n",
       "<table border=\"1\" class=\"dataframe\">\n",
       "  <thead>\n",
       "    <tr style=\"text-align: right;\">\n",
       "      <th></th>\n",
       "      <th>tijd</th>\n",
       "      <th>counts</th>\n",
       "    </tr>\n",
       "  </thead>\n",
       "  <tbody>\n",
       "    <tr>\n",
       "      <th>0</th>\n",
       "      <td>0</td>\n",
       "      <td>1265</td>\n",
       "    </tr>\n",
       "    <tr>\n",
       "      <th>1</th>\n",
       "      <td>1</td>\n",
       "      <td>688</td>\n",
       "    </tr>\n",
       "    <tr>\n",
       "      <th>2</th>\n",
       "      <td>2</td>\n",
       "      <td>410</td>\n",
       "    </tr>\n",
       "    <tr>\n",
       "      <th>3</th>\n",
       "      <td>3</td>\n",
       "      <td>241</td>\n",
       "    </tr>\n",
       "    <tr>\n",
       "      <th>4</th>\n",
       "      <td>4</td>\n",
       "      <td>132</td>\n",
       "    </tr>\n",
       "  </tbody>\n",
       "</table>\n",
       "</div>"
      ],
      "text/plain": [
       "   tijd  counts\n",
       "0     0    1265\n",
       "1     1     688\n",
       "2     2     410\n",
       "3     3     241\n",
       "4     4     132"
      ]
     },
     "execution_count": 3,
     "metadata": {},
     "output_type": "execute_result"
    }
   ],
   "source": [
    "data.head()"
   ]
  },
  {
   "cell_type": "markdown",
   "metadata": {},
   "source": [
    "We zien een kolom **tijd** en een kolom **counts**, met negen meetpunten. De fouten op de meetpunten stonden niet in het bestand, maar wel in de opgave. De fout op het aantal counts $N$ wordt gegeven door $\\sqrt N$. We maken een nieuwe kolom `yerr` als volgt:"
   ]
  },
  {
   "cell_type": "code",
   "execution_count": 4,
   "metadata": {},
   "outputs": [],
   "source": [
    "data['yerr'] = np.sqrt(data.counts)"
   ]
  },
  {
   "cell_type": "markdown",
   "metadata": {},
   "source": [
    "Merk op dat we de data nu kunnen bekijken door zowel `data['yerr']` als `data.yerr` te typen, maar dat we nieuwe kolommen alléén kunnen maken met de `data['yerr']`-notatie. We inspecteren even de eerste vijf regels om te zien of alles goed ging:"
   ]
  },
  {
   "cell_type": "code",
   "execution_count": 5,
   "metadata": {},
   "outputs": [
    {
     "data": {
      "text/html": [
       "<div>\n",
       "<style scoped>\n",
       "    .dataframe tbody tr th:only-of-type {\n",
       "        vertical-align: middle;\n",
       "    }\n",
       "\n",
       "    .dataframe tbody tr th {\n",
       "        vertical-align: top;\n",
       "    }\n",
       "\n",
       "    .dataframe thead th {\n",
       "        text-align: right;\n",
       "    }\n",
       "</style>\n",
       "<table border=\"1\" class=\"dataframe\">\n",
       "  <thead>\n",
       "    <tr style=\"text-align: right;\">\n",
       "      <th></th>\n",
       "      <th>tijd</th>\n",
       "      <th>counts</th>\n",
       "      <th>yerr</th>\n",
       "    </tr>\n",
       "  </thead>\n",
       "  <tbody>\n",
       "    <tr>\n",
       "      <th>0</th>\n",
       "      <td>0</td>\n",
       "      <td>1265</td>\n",
       "      <td>35.566838</td>\n",
       "    </tr>\n",
       "    <tr>\n",
       "      <th>1</th>\n",
       "      <td>1</td>\n",
       "      <td>688</td>\n",
       "      <td>26.229754</td>\n",
       "    </tr>\n",
       "    <tr>\n",
       "      <th>2</th>\n",
       "      <td>2</td>\n",
       "      <td>410</td>\n",
       "      <td>20.248457</td>\n",
       "    </tr>\n",
       "    <tr>\n",
       "      <th>3</th>\n",
       "      <td>3</td>\n",
       "      <td>241</td>\n",
       "      <td>15.524175</td>\n",
       "    </tr>\n",
       "    <tr>\n",
       "      <th>4</th>\n",
       "      <td>4</td>\n",
       "      <td>132</td>\n",
       "      <td>11.489125</td>\n",
       "    </tr>\n",
       "  </tbody>\n",
       "</table>\n",
       "</div>"
      ],
      "text/plain": [
       "   tijd  counts       yerr\n",
       "0     0    1265  35.566838\n",
       "1     1     688  26.229754\n",
       "2     2     410  20.248457\n",
       "3     3     241  15.524175\n",
       "4     4     132  11.489125"
      ]
     },
     "execution_count": 5,
     "metadata": {},
     "output_type": "execute_result"
    }
   ],
   "source": [
    "data.head()"
   ]
  },
  {
   "cell_type": "markdown",
   "metadata": {},
   "source": [
    "We maken een plot van counts tegen tijd, met de juiste foutvlaggen:"
   ]
  },
  {
   "cell_type": "code",
   "execution_count": 6,
   "metadata": {},
   "outputs": [
    {
     "data": {
      "text/plain": [
       "<matplotlib.axes._subplots.AxesSubplot at 0x1157217b8>"
      ]
     },
     "execution_count": 6,
     "metadata": {},
     "output_type": "execute_result"
    },
    {
     "data": {
      "image/png": "[encoded data removed]",
      "text/plain": [
       "<Figure size 432x288 with 1 Axes>"
      ]
     },
     "metadata": {
      "needs_background": "light"
     },
     "output_type": "display_data"
    }
   ],
   "source": [
    "data.plot.scatter('tijd', 'counts', yerr='yerr')"
   ]
  },
  {
   "cell_type": "markdown",
   "metadata": {},
   "source": [
    "Er lijkt een constante achtergrond over te blijven; het aantal vervallen per seconde gaat niet naar nul:"
   ]
  },
  {
   "cell_type": "code",
   "execution_count": 7,
   "metadata": {},
   "outputs": [
    {
     "data": {
      "text/html": [
       "<div>\n",
       "<style scoped>\n",
       "    .dataframe tbody tr th:only-of-type {\n",
       "        vertical-align: middle;\n",
       "    }\n",
       "\n",
       "    .dataframe tbody tr th {\n",
       "        vertical-align: top;\n",
       "    }\n",
       "\n",
       "    .dataframe thead th {\n",
       "        text-align: right;\n",
       "    }\n",
       "</style>\n",
       "<table border=\"1\" class=\"dataframe\">\n",
       "  <thead>\n",
       "    <tr style=\"text-align: right;\">\n",
       "      <th></th>\n",
       "      <th>tijd</th>\n",
       "      <th>counts</th>\n",
       "      <th>yerr</th>\n",
       "    </tr>\n",
       "  </thead>\n",
       "  <tbody>\n",
       "    <tr>\n",
       "      <th>4</th>\n",
       "      <td>4</td>\n",
       "      <td>132</td>\n",
       "      <td>11.489125</td>\n",
       "    </tr>\n",
       "    <tr>\n",
       "      <th>5</th>\n",
       "      <td>5</td>\n",
       "      <td>93</td>\n",
       "      <td>9.643651</td>\n",
       "    </tr>\n",
       "    <tr>\n",
       "      <th>6</th>\n",
       "      <td>6</td>\n",
       "      <td>41</td>\n",
       "      <td>6.403124</td>\n",
       "    </tr>\n",
       "    <tr>\n",
       "      <th>7</th>\n",
       "      <td>7</td>\n",
       "      <td>29</td>\n",
       "      <td>5.385165</td>\n",
       "    </tr>\n",
       "    <tr>\n",
       "      <th>8</th>\n",
       "      <td>8</td>\n",
       "      <td>30</td>\n",
       "      <td>5.477226</td>\n",
       "    </tr>\n",
       "  </tbody>\n",
       "</table>\n",
       "</div>"
      ],
      "text/plain": [
       "   tijd  counts       yerr\n",
       "4     4     132  11.489125\n",
       "5     5      93   9.643651\n",
       "6     6      41   6.403124\n",
       "7     7      29   5.385165\n",
       "8     8      30   5.477226"
      ]
     },
     "execution_count": 7,
     "metadata": {},
     "output_type": "execute_result"
    }
   ],
   "source": [
    "data.tail()"
   ]
  },
  {
   "cell_type": "markdown",
   "metadata": {},
   "source": [
    "## Fitten aan exponentiële functie plus constante achtergrond\n",
    "\n",
    "### Gebruik maken van ingebouwde modellen\n",
    "\n",
    "We kunnen met `lmfit` eenvoudig modellen optellen:"
   ]
  },
  {
   "cell_type": "code",
   "execution_count": 8,
   "metadata": {},
   "outputs": [],
   "source": [
    "model = models.ExponentialModel() + models.ConstantModel()"
   ]
  },
  {
   "cell_type": "markdown",
   "metadata": {},
   "source": [
    "Vervolgens fitten we dit model aan de data en bekijken het resultaat. Merk op dat de *gewichten* van de datapunten de inverse zijn van de *fouten* op de datapunten (hoe kleiner de onzekerheid, hoe groter het gewicht):"
   ]
  },
  {
   "cell_type": "code",
   "execution_count": 9,
   "metadata": {},
   "outputs": [],
   "source": [
    "fit = model.fit(data.counts, x=data.tijd, weights=1 / data.yerr)"
   ]
  },
  {
   "cell_type": "markdown",
   "metadata": {},
   "source": [
    "Een rapport van de uitkomst van de fit krijgen we als volgt:"
   ]
  },
  {
   "cell_type": "code",
   "execution_count": 10,
   "metadata": {},
   "outputs": [
    {
     "name": "stdout",
     "output_type": "stream",
     "text": [
      "[[Model]]\n",
      "    (Model(exponential) + Model(constant))\n",
      "[[Fit Statistics]]\n",
      "    # fitting method   = leastsq\n",
      "    # function evals   = 76\n",
      "    # data points      = 9\n",
      "    # variables        = 3\n",
      "    chi-square         = 7.00035413\n",
      "    reduced chi-square = 1.16672569\n",
      "    Akaike info crit   = 3.73862544\n",
      "    Bayesian info crit = 4.33029918\n",
      "[[Variables]]\n",
      "    decay:      1.73323436 +/- 0.06537102 (3.77%) (init = 1)\n",
      "    amplitude:  1244.05587 +/- 33.0431890 (2.66%) (init = 1)\n",
      "    c:          11.1130703 +/- 5.38179988 (48.43%) (init = 0)\n",
      "[[Correlations]] (unreported correlations are < 0.100)\n",
      "    C(decay, c)         = -0.767\n",
      "    C(decay, amplitude) = -0.513\n",
      "    C(amplitude, c)     =  0.159\n",
      "\n"
     ]
    }
   ],
   "source": [
    "print(fit.fit_report())"
   ]
  },
  {
   "cell_type": "markdown",
   "metadata": {},
   "source": [
    "Hier vind je de $\\chi_\\mathrm{red}^2$, die mooi rond de 1 ligt, en ook de waardes van de fitparameters. Zo blijkt de constante achtergrond $c$ slechts 11 counts te zijn en de vervalconstante $\\tau = 1.73(7)$ min.\n",
    "\n",
    "Het is altijd fijn om even visueel in te schatten hoe de fit eruit ziet. Dat gaat makkelijk met `fit.plot()`, waarbij je de parameter `numpoints` kunt gebruiken om op te geven dat de fitlijn met meer punten geplot moet worden dan slechts het aantal datapunten."
   ]
  },
  {
   "cell_type": "code",
   "execution_count": 11,
   "metadata": {},
   "outputs": [
    {
     "data": {
      "text/plain": [
       "(<Figure size 432x432 with 2 Axes>,\n",
       " <matplotlib.gridspec.GridSpec at 0x1178b4c50>)"
      ]
     },
     "execution_count": 11,
     "metadata": {},
     "output_type": "execute_result"
    },
    {
     "data": {
      "image/png": "[encoded data removed]",
      "text/plain": [
       "<Figure size 432x432 with 2 Axes>"
      ]
     },
     "metadata": {
      "needs_background": "light"
     },
     "output_type": "display_data"
    }
   ],
   "source": [
    "fit.plot(numpoints=50)"
   ]
  },
  {
   "cell_type": "markdown",
   "metadata": {},
   "source": [
    "### Gebruik maken van handmatig gedefinieerde functies\n",
    "\n",
    "Het is ook mogelijk om zelf fitfuncties te definiëren, en dat gaat het makkelijkst met `lambda`-functies. Dit kan van pas komen wanneer we een model willen fitten dat niet ingebouw is, of waarvan de vorm ons niet helemaal aanstaat. Als voorbeeld definiëren we:\n",
    "$$\n",
    "f(t) = N_0 e^{-t/\\tau} + C\n",
    "$$"
   ]
  },
  {
   "cell_type": "code",
   "execution_count": 12,
   "metadata": {},
   "outputs": [],
   "source": [
    "f = lambda t, N0, tau, C: N0 * np.exp(-t / tau) + C"
   ]
  },
  {
   "cell_type": "markdown",
   "metadata": {},
   "source": [
    "Wanneer we nu ons model maken, zullen we zelf eerste schattingen van de parameters moeten geven. Dit kan zeker van pas komen wanneer een fit lastig is, en de computer een beetje moet worden geholpen. Voor nu zetten we de parameters allemaal op 1, en zien we wel waar het schip strand."
   ]
  },
  {
   "cell_type": "code",
   "execution_count": 13,
   "metadata": {},
   "outputs": [],
   "source": [
    "model = models.Model(f)\n",
    "params = model.make_params(N0=1, tau=1, C=1)"
   ]
  },
  {
   "cell_type": "markdown",
   "metadata": {},
   "source": [
    "Het enige verschil met de aanroep van `fit()` hierboven is dat we nu de parameters meegeven via de `params` variabele."
   ]
  },
  {
   "cell_type": "code",
   "execution_count": 14,
   "metadata": {},
   "outputs": [],
   "source": [
    "fit = model.fit(data.counts, t=data.tijd, weights=1 / data.yerr, params=params)"
   ]
  },
  {
   "cell_type": "markdown",
   "metadata": {},
   "source": [
    "En vervolgens zien we dat we dezelfde uitkomst hebben gevonden."
   ]
  },
  {
   "cell_type": "code",
   "execution_count": 15,
   "metadata": {},
   "outputs": [
    {
     "data": {
      "text/plain": [
       "(<Figure size 432x432 with 2 Axes>,\n",
       " <matplotlib.gridspec.GridSpec at 0x1179e3828>)"
      ]
     },
     "execution_count": 15,
     "metadata": {},
     "output_type": "execute_result"
    },
    {
     "data": {
      "image/png": "[encoded data removed]",
      "text/plain": [
       "<Figure size 432x432 with 2 Axes>"
      ]
     },
     "metadata": {
      "needs_background": "light"
     },
     "output_type": "display_data"
    }
   ],
   "source": [
    "fit.plot(numpoints=50)"
   ]
  },
  {
   "cell_type": "code",
   "execution_count": 16,
   "metadata": {},
   "outputs": [
    {
     "name": "stdout",
     "output_type": "stream",
     "text": [
      "[[Model]]\n",
      "    Model(<lambda>)\n",
      "[[Fit Statistics]]\n",
      "    # fitting method   = leastsq\n",
      "    # function evals   = 61\n",
      "    # data points      = 9\n",
      "    # variables        = 3\n",
      "    chi-square         = 7.00035413\n",
      "    reduced chi-square = 1.16672569\n",
      "    Akaike info crit   = 3.73862544\n",
      "    Bayesian info crit = 4.33029918\n",
      "[[Variables]]\n",
      "    N0:   1244.05586 +/- 33.0432053 (2.66%) (init = 1)\n",
      "    tau:  1.73323438 +/- 0.06537089 (3.77%) (init = 1)\n",
      "    C:    11.1130694 +/- 5.38178919 (48.43%) (init = 1)\n",
      "[[Correlations]] (unreported correlations are < 0.100)\n",
      "    C(tau, C)  = -0.767\n",
      "    C(N0, tau) = -0.513\n",
      "    C(N0, C)   =  0.159\n",
      "\n"
     ]
    }
   ],
   "source": [
    "print(fit.fit_report())"
   ]
  }
 ],
 "metadata": {
  "kernelspec": {
   "display_name": "Python 3",
   "language": "python",
   "name": "python3"
  },
  "language_info": {
   "codemirror_mode": {
    "name": "ipython",
    "version": 3
   },
   "file_extension": ".py",
   "mimetype": "text/x-python",
   "name": "python",
   "nbconvert_exporter": "python",
   "pygments_lexer": "ipython3",
   "version": "3.6.6"
  }
 },
 "nbformat": 4,
 "nbformat_minor": 2
}
