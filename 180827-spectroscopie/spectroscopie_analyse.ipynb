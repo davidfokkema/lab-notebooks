{
 "cells": [
  {
   "cell_type": "code",
   "execution_count": 1,
   "metadata": {},
   "outputs": [],
   "source": [
    "%matplotlib widget"
   ]
  },
  {
   "cell_type": "code",
   "execution_count": 2,
   "metadata": {},
   "outputs": [],
   "source": [
    "import pandas as pd\n",
    "import numpy as np\n",
    "from lmfit import models"
   ]
  },
  {
   "cell_type": "markdown",
   "metadata": {},
   "source": [
    "# Proefmeting spectroscopie"
   ]
  },
  {
   "cell_type": "markdown",
   "metadata": {},
   "source": [
    "## IJking spectroscoop met behulp van een natriumlamp"
   ]
  },
  {
   "cell_type": "code",
   "execution_count": 3,
   "metadata": {},
   "outputs": [],
   "source": [
    "ijking = pd.read_csv('ijking.csv')"
   ]
  },
  {
   "cell_type": "code",
   "execution_count": 4,
   "metadata": {},
   "outputs": [
    {
     "data": {
      "text/html": [
       "<div>\n",
       "<style scoped>\n",
       "    .dataframe tbody tr th:only-of-type {\n",
       "        vertical-align: middle;\n",
       "    }\n",
       "\n",
       "    .dataframe tbody tr th {\n",
       "        vertical-align: top;\n",
       "    }\n",
       "\n",
       "    .dataframe thead th {\n",
       "        text-align: right;\n",
       "    }\n",
       "</style>\n",
       "<table border=\"1\" class=\"dataframe\">\n",
       "  <thead>\n",
       "    <tr style=\"text-align: right;\">\n",
       "      <th></th>\n",
       "      <th>kleur</th>\n",
       "      <th>sterkte</th>\n",
       "      <th>orde</th>\n",
       "      <th>golflengte</th>\n",
       "      <th>hoek</th>\n",
       "      <th>dhoek</th>\n",
       "    </tr>\n",
       "  </thead>\n",
       "  <tbody>\n",
       "    <tr>\n",
       "      <th>0</th>\n",
       "      <td>oranje</td>\n",
       "      <td>sterk</td>\n",
       "      <td>1</td>\n",
       "      <td>589.0</td>\n",
       "      <td>20.20</td>\n",
       "      <td>0.025</td>\n",
       "    </tr>\n",
       "    <tr>\n",
       "      <th>1</th>\n",
       "      <td>oranje</td>\n",
       "      <td>sterk</td>\n",
       "      <td>1</td>\n",
       "      <td>589.6</td>\n",
       "      <td>20.25</td>\n",
       "      <td>0.025</td>\n",
       "    </tr>\n",
       "    <tr>\n",
       "      <th>2</th>\n",
       "      <td>groen</td>\n",
       "      <td>matig</td>\n",
       "      <td>1</td>\n",
       "      <td>568.3</td>\n",
       "      <td>19.40</td>\n",
       "      <td>0.025</td>\n",
       "    </tr>\n",
       "    <tr>\n",
       "      <th>3</th>\n",
       "      <td>groen</td>\n",
       "      <td>matig</td>\n",
       "      <td>1</td>\n",
       "      <td>568.8</td>\n",
       "      <td>19.45</td>\n",
       "      <td>0.025</td>\n",
       "    </tr>\n",
       "    <tr>\n",
       "      <th>4</th>\n",
       "      <td>rood</td>\n",
       "      <td>zwak</td>\n",
       "      <td>1</td>\n",
       "      <td>615.4</td>\n",
       "      <td>21.20</td>\n",
       "      <td>0.100</td>\n",
       "    </tr>\n",
       "    <tr>\n",
       "      <th>5</th>\n",
       "      <td>rood</td>\n",
       "      <td>zwak</td>\n",
       "      <td>1</td>\n",
       "      <td>618.1</td>\n",
       "      <td>21.25</td>\n",
       "      <td>0.100</td>\n",
       "    </tr>\n",
       "    <tr>\n",
       "      <th>6</th>\n",
       "      <td>oranje</td>\n",
       "      <td>zwak</td>\n",
       "      <td>2</td>\n",
       "      <td>589.0</td>\n",
       "      <td>45.10</td>\n",
       "      <td>0.025</td>\n",
       "    </tr>\n",
       "    <tr>\n",
       "      <th>7</th>\n",
       "      <td>oranje</td>\n",
       "      <td>zwak</td>\n",
       "      <td>2</td>\n",
       "      <td>589.6</td>\n",
       "      <td>45.15</td>\n",
       "      <td>0.025</td>\n",
       "    </tr>\n",
       "  </tbody>\n",
       "</table>\n",
       "</div>"
      ],
      "text/plain": [
       "    kleur sterkte  orde  golflengte   hoek  dhoek\n",
       "0  oranje   sterk     1       589.0  20.20  0.025\n",
       "1  oranje   sterk     1       589.6  20.25  0.025\n",
       "2   groen   matig     1       568.3  19.40  0.025\n",
       "3   groen   matig     1       568.8  19.45  0.025\n",
       "4    rood    zwak     1       615.4  21.20  0.100\n",
       "5    rood    zwak     1       618.1  21.25  0.100\n",
       "6  oranje    zwak     2       589.0  45.10  0.025\n",
       "7  oranje    zwak     2       589.6  45.15  0.025"
      ]
     },
     "execution_count": 4,
     "metadata": {},
     "output_type": "execute_result"
    }
   ],
   "source": [
    "ijking"
   ]
  },
  {
   "cell_type": "code",
   "execution_count": 5,
   "metadata": {},
   "outputs": [],
   "source": [
    "ijking['corr_hoek'] = ijking.hoek + 0.70\n",
    "ijking['sin_hoek'] = np.sin(np.radians(ijking.corr_hoek))\n",
    "ijking['d_sin_hoek'] = np.cos(np.radians(ijking.corr_hoek)) * np.radians(ijking.dhoek)\n",
    "ijking['m_lambda'] = ijking.orde * ijking.golflengte"
   ]
  },
  {
   "cell_type": "code",
   "execution_count": 6,
   "metadata": {},
   "outputs": [
    {
     "data": {
      "application/vnd.jupyter.widget-view+json": {
       "model_id": "da62be6dad69471e9b8128ca1c8ab951",
       "version_major": 2,
       "version_minor": 0
      },
      "text/plain": [
       "FigureCanvasNbAgg()"
      ]
     },
     "metadata": {},
     "output_type": "display_data"
    }
   ],
   "source": [
    "ijking.plot.scatter('m_lambda', 'sin_hoek', yerr='d_sin_hoek', s=5);"
   ]
  },
  {
   "cell_type": "code",
   "execution_count": 7,
   "metadata": {},
   "outputs": [
    {
     "data": {
      "application/vnd.jupyter.widget-view+json": {
       "model_id": "b2d2347f9c8a424fb45c0230be49e2b3",
       "version_major": 2,
       "version_minor": 0
      },
      "text/plain": [
       "FigureCanvasNbAgg()"
      ]
     },
     "metadata": {},
     "output_type": "display_data"
    },
    {
     "name": "stdout",
     "output_type": "stream",
     "text": [
      "[[Model]]\n",
      "    Model(linear)\n",
      "[[Fit Statistics]]\n",
      "    # fitting method   = leastsq\n",
      "    # function evals   = 9\n",
      "    # data points      = 8\n",
      "    # variables        = 2\n",
      "    chi-square         = 2.60981003\n",
      "    reduced chi-square = 0.43496834\n",
      "    Akaike info crit   = -4.96131287\n",
      "    Bayesian info crit = -4.80242979\n",
      "[[Variables]]\n",
      "    intercept: -0.00334099 +/- 2.9508e-04 (8.83%) (init = 0)\n",
      "    slope:      6.1137e-04 +/- 3.2431e-07 (0.05%) (init = 1)\n",
      "[[Correlations]] (unreported correlations are < 0.100)\n",
      "    C(intercept, slope) = -0.945\n",
      "\n"
     ]
    }
   ],
   "source": [
    "model = models.LinearModel()\n",
    "ijkfit = model.fit(ijking.sin_hoek, x=ijking.m_lambda, weights=1/ijking.d_sin_hoek)\n",
    "ijkfit.plot()\n",
    "print(ijkfit.fit_report())"
   ]
  },
  {
   "cell_type": "code",
   "execution_count": 8,
   "metadata": {},
   "outputs": [],
   "source": [
    "d = 1 / ijkfit.params['slope']"
   ]
  },
  {
   "cell_type": "markdown",
   "metadata": {},
   "source": [
    "## Onbekende lamp"
   ]
  },
  {
   "cell_type": "code",
   "execution_count": 9,
   "metadata": {},
   "outputs": [],
   "source": [
    "onbekend = pd.read_csv('onbekende_lamp.csv')"
   ]
  },
  {
   "cell_type": "code",
   "execution_count": 10,
   "metadata": {},
   "outputs": [
    {
     "data": {
      "text/html": [
       "<div>\n",
       "<style scoped>\n",
       "    .dataframe tbody tr th:only-of-type {\n",
       "        vertical-align: middle;\n",
       "    }\n",
       "\n",
       "    .dataframe tbody tr th {\n",
       "        vertical-align: top;\n",
       "    }\n",
       "\n",
       "    .dataframe thead th {\n",
       "        text-align: right;\n",
       "    }\n",
       "</style>\n",
       "<table border=\"1\" class=\"dataframe\">\n",
       "  <thead>\n",
       "    <tr style=\"text-align: right;\">\n",
       "      <th></th>\n",
       "      <th>kleur</th>\n",
       "      <th>sterkte</th>\n",
       "      <th>orde</th>\n",
       "      <th>hoek</th>\n",
       "      <th>dhoek</th>\n",
       "    </tr>\n",
       "  </thead>\n",
       "  <tbody>\n",
       "    <tr>\n",
       "      <th>0</th>\n",
       "      <td>paars</td>\n",
       "      <td>matig</td>\n",
       "      <td>1</td>\n",
       "      <td>13.40</td>\n",
       "      <td>0.025</td>\n",
       "    </tr>\n",
       "    <tr>\n",
       "      <th>1</th>\n",
       "      <td>paars</td>\n",
       "      <td>sterk</td>\n",
       "      <td>1</td>\n",
       "      <td>14.50</td>\n",
       "      <td>0.025</td>\n",
       "    </tr>\n",
       "    <tr>\n",
       "      <th>2</th>\n",
       "      <td>groen</td>\n",
       "      <td>zwak</td>\n",
       "      <td>1</td>\n",
       "      <td>16.55</td>\n",
       "      <td>0.025</td>\n",
       "    </tr>\n",
       "    <tr>\n",
       "      <th>3</th>\n",
       "      <td>groen</td>\n",
       "      <td>zwakker</td>\n",
       "      <td>1</td>\n",
       "      <td>16.70</td>\n",
       "      <td>0.025</td>\n",
       "    </tr>\n",
       "    <tr>\n",
       "      <th>4</th>\n",
       "      <td>groen</td>\n",
       "      <td>zeer sterk</td>\n",
       "      <td>1</td>\n",
       "      <td>18.60</td>\n",
       "      <td>0.025</td>\n",
       "    </tr>\n",
       "    <tr>\n",
       "      <th>5</th>\n",
       "      <td>oranje</td>\n",
       "      <td>sterk</td>\n",
       "      <td>1</td>\n",
       "      <td>19.70</td>\n",
       "      <td>0.025</td>\n",
       "    </tr>\n",
       "    <tr>\n",
       "      <th>6</th>\n",
       "      <td>oranje</td>\n",
       "      <td>sterk</td>\n",
       "      <td>1</td>\n",
       "      <td>19.80</td>\n",
       "      <td>0.025</td>\n",
       "    </tr>\n",
       "  </tbody>\n",
       "</table>\n",
       "</div>"
      ],
      "text/plain": [
       "    kleur     sterkte  orde   hoek  dhoek\n",
       "0   paars       matig     1  13.40  0.025\n",
       "1   paars       sterk     1  14.50  0.025\n",
       "2   groen        zwak     1  16.55  0.025\n",
       "3   groen     zwakker     1  16.70  0.025\n",
       "4   groen  zeer sterk     1  18.60  0.025\n",
       "5  oranje       sterk     1  19.70  0.025\n",
       "6  oranje       sterk     1  19.80  0.025"
      ]
     },
     "execution_count": 10,
     "metadata": {},
     "output_type": "execute_result"
    }
   ],
   "source": [
    "onbekend"
   ]
  },
  {
   "cell_type": "code",
   "execution_count": 11,
   "metadata": {},
   "outputs": [],
   "source": [
    "onbekend['corr_hoek'] = onbekend.hoek + 0.70\n",
    "onbekend['golflengte'] = d * np.sin(np.radians(onbekend.corr_hoek)) / onbekend.orde"
   ]
  },
  {
   "cell_type": "code",
   "execution_count": 12,
   "metadata": {},
   "outputs": [
    {
     "data": {
      "text/html": [
       "<div>\n",
       "<style scoped>\n",
       "    .dataframe tbody tr th:only-of-type {\n",
       "        vertical-align: middle;\n",
       "    }\n",
       "\n",
       "    .dataframe tbody tr th {\n",
       "        vertical-align: top;\n",
       "    }\n",
       "\n",
       "    .dataframe thead th {\n",
       "        text-align: right;\n",
       "    }\n",
       "</style>\n",
       "<table border=\"1\" class=\"dataframe\">\n",
       "  <thead>\n",
       "    <tr style=\"text-align: right;\">\n",
       "      <th></th>\n",
       "      <th>kleur</th>\n",
       "      <th>sterkte</th>\n",
       "      <th>orde</th>\n",
       "      <th>hoek</th>\n",
       "      <th>dhoek</th>\n",
       "      <th>corr_hoek</th>\n",
       "      <th>golflengte</th>\n",
       "      <th>ref_golflengte</th>\n",
       "    </tr>\n",
       "  </thead>\n",
       "  <tbody>\n",
       "    <tr>\n",
       "      <th>0</th>\n",
       "      <td>paars</td>\n",
       "      <td>matig</td>\n",
       "      <td>1</td>\n",
       "      <td>13.40</td>\n",
       "      <td>0.025</td>\n",
       "      <td>14.10</td>\n",
       "      <td>398.475065</td>\n",
       "      <td>404.7</td>\n",
       "    </tr>\n",
       "    <tr>\n",
       "      <th>1</th>\n",
       "      <td>paars</td>\n",
       "      <td>sterk</td>\n",
       "      <td>1</td>\n",
       "      <td>14.50</td>\n",
       "      <td>0.025</td>\n",
       "      <td>15.20</td>\n",
       "      <td>428.856372</td>\n",
       "      <td>435.8</td>\n",
       "    </tr>\n",
       "    <tr>\n",
       "      <th>2</th>\n",
       "      <td>groen</td>\n",
       "      <td>zwak</td>\n",
       "      <td>1</td>\n",
       "      <td>16.55</td>\n",
       "      <td>0.025</td>\n",
       "      <td>17.25</td>\n",
       "      <td>485.045739</td>\n",
       "      <td>491.6</td>\n",
       "    </tr>\n",
       "    <tr>\n",
       "      <th>3</th>\n",
       "      <td>groen</td>\n",
       "      <td>zwakker</td>\n",
       "      <td>1</td>\n",
       "      <td>16.70</td>\n",
       "      <td>0.025</td>\n",
       "      <td>17.40</td>\n",
       "      <td>489.133647</td>\n",
       "      <td>NaN</td>\n",
       "    </tr>\n",
       "    <tr>\n",
       "      <th>4</th>\n",
       "      <td>groen</td>\n",
       "      <td>zeer sterk</td>\n",
       "      <td>1</td>\n",
       "      <td>18.60</td>\n",
       "      <td>0.025</td>\n",
       "      <td>19.30</td>\n",
       "      <td>540.614239</td>\n",
       "      <td>546.1</td>\n",
       "    </tr>\n",
       "    <tr>\n",
       "      <th>5</th>\n",
       "      <td>oranje</td>\n",
       "      <td>sterk</td>\n",
       "      <td>1</td>\n",
       "      <td>19.70</td>\n",
       "      <td>0.025</td>\n",
       "      <td>20.40</td>\n",
       "      <td>570.150699</td>\n",
       "      <td>577.1</td>\n",
       "    </tr>\n",
       "    <tr>\n",
       "      <th>6</th>\n",
       "      <td>oranje</td>\n",
       "      <td>sterk</td>\n",
       "      <td>1</td>\n",
       "      <td>19.80</td>\n",
       "      <td>0.025</td>\n",
       "      <td>20.50</td>\n",
       "      <td>572.825574</td>\n",
       "      <td>579.1</td>\n",
       "    </tr>\n",
       "  </tbody>\n",
       "</table>\n",
       "</div>"
      ],
      "text/plain": [
       "    kleur     sterkte  orde   hoek  dhoek  corr_hoek  golflengte  \\\n",
       "0   paars       matig     1  13.40  0.025      14.10  398.475065   \n",
       "1   paars       sterk     1  14.50  0.025      15.20  428.856372   \n",
       "2   groen        zwak     1  16.55  0.025      17.25  485.045739   \n",
       "3   groen     zwakker     1  16.70  0.025      17.40  489.133647   \n",
       "4   groen  zeer sterk     1  18.60  0.025      19.30  540.614239   \n",
       "5  oranje       sterk     1  19.70  0.025      20.40  570.150699   \n",
       "6  oranje       sterk     1  19.80  0.025      20.50  572.825574   \n",
       "\n",
       "   ref_golflengte  \n",
       "0           404.7  \n",
       "1           435.8  \n",
       "2           491.6  \n",
       "3             NaN  \n",
       "4           546.1  \n",
       "5           577.1  \n",
       "6           579.1  "
      ]
     },
     "execution_count": 12,
     "metadata": {},
     "output_type": "execute_result"
    }
   ],
   "source": [
    "onbekend['ref_golflengte'] = [404.7, 435.8, 491.6, np.nan, 546.1, 577.1, 579.1]\n",
    "onbekend"
   ]
  },
  {
   "cell_type": "code",
   "execution_count": 13,
   "metadata": {},
   "outputs": [
    {
     "data": {
      "application/vnd.jupyter.widget-view+json": {
       "model_id": "01a6a646dcb249319b1b878e208950f0",
       "version_major": 2,
       "version_minor": 0
      },
      "text/plain": [
       "FigureCanvasNbAgg()"
      ]
     },
     "metadata": {},
     "output_type": "display_data"
    },
    {
     "data": {
      "text/plain": [
       "<matplotlib.axes._subplots.AxesSubplot at 0x11f0f85f8>"
      ]
     },
     "execution_count": 13,
     "metadata": {},
     "output_type": "execute_result"
    }
   ],
   "source": [
    "onbekend.plot.scatter('ref_golflengte', 'golflengte')"
   ]
  },
  {
   "cell_type": "code",
   "execution_count": null,
   "metadata": {},
   "outputs": [],
   "source": [
    "model = models.LinearModel()\n",
    "kwik_fit = model.fit(onbekend.golflengte, x=onbekend.ref_golflengte, nan_policy='omit')\n",
    "kwik_fit.plot()\n",
    "print(kwik_fit.fit_report())"
   ]
  },
  {
   "cell_type": "code",
   "execution_count": null,
   "metadata": {},
   "outputs": [],
   "source": [
    "onbekend.dtypes"
   ]
  },
  {
   "cell_type": "code",
   "execution_count": null,
   "metadata": {},
   "outputs": [],
   "source": [
    "kwik_fit.data"
   ]
  },
  {
   "cell_type": "code",
   "execution_count": null,
   "metadata": {},
   "outputs": [],
   "source": []
  }
 ],
 "metadata": {
  "kernelspec": {
   "display_name": "Python 3",
   "language": "python",
   "name": "python3"
  },
  "language_info": {
   "codemirror_mode": {
    "name": "ipython",
    "version": 3
   },
   "file_extension": ".py",
   "mimetype": "text/x-python",
   "name": "python",
   "nbconvert_exporter": "python",
   "pygments_lexer": "ipython3",
   "version": "3.6.6"
  }
 },
 "nbformat": 4,
 "nbformat_minor": 2
}
